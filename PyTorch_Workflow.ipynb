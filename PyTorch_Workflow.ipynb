{
  "nbformat": 4,
  "nbformat_minor": 0,
  "metadata": {
    "colab": {
      "provenance": [],
      "authorship_tag": "ABX9TyMQicnQjX1x4njfKsreDQtR",
      "include_colab_link": true
    },
    "kernelspec": {
      "name": "python3",
      "display_name": "Python 3"
    },
    "language_info": {
      "name": "python"
    }
  },
  "cells": [
    {
      "cell_type": "markdown",
      "metadata": {
        "id": "view-in-github",
        "colab_type": "text"
      },
      "source": [
        "<a href=\"https://colab.research.google.com/github/hulasozdemir/pyTorch/blob/main/PyTorch_Workflow.ipynb\" target=\"_parent\"><img src=\"https://colab.research.google.com/assets/colab-badge.svg\" alt=\"Open In Colab\"/></a>"
      ]
    },
    {
      "cell_type": "code",
      "execution_count": null,
      "metadata": {
        "id": "nM47QCtt3_dc"
      },
      "outputs": [],
      "source": [
        "import torch\n",
        "from torch import nn\n",
        "import matplotlib.pyplot as plt"
      ]
    },
    {
      "cell_type": "code",
      "source": [
        "weight = 0.7\n",
        "bias = 0.3\n",
        "\n",
        "\n",
        "start = 0.0\n",
        "end = 1.0\n",
        "step = 0.02\n",
        "\n",
        "X = torch.arange(start, end, step)\n",
        "y = weight * X + bias"
      ],
      "metadata": {
        "id": "M6MZXR2T4Za5"
      },
      "execution_count": null,
      "outputs": []
    },
    {
      "cell_type": "code",
      "source": [
        "train_split = int(0.8 * len(X))\n",
        "\n",
        "X_train, y_train = X[:train_split], y[:train_split]\n",
        "X_test, y_test = X[train_split:], y[train_split:]\n",
        "\n",
        "len(X_train), len(y_train), len(X_test), len(y_test), "
      ],
      "metadata": {
        "colab": {
          "base_uri": "https://localhost:8080/"
        },
        "id": "PsRbyLmH4tKS",
        "outputId": "915d9348-a0ca-4e95-9d35-8b732b16dbf5"
      },
      "execution_count": null,
      "outputs": [
        {
          "output_type": "execute_result",
          "data": {
            "text/plain": [
              "(40, 40, 10, 10)"
            ]
          },
          "metadata": {},
          "execution_count": 5
        }
      ]
    },
    {
      "cell_type": "code",
      "source": [
        "def plot_predictions(train_data=X_train, \n",
        "                     train_labels=y_train, \n",
        "                     test_data=X_test, \n",
        "                     test_labels=y_test, \n",
        "                     predictions=None):\n",
        "  \"\"\"\n",
        "  Plots training data, test data and compares predictions.\n",
        "  \"\"\"\n",
        "  plt.figure(figsize=(10, 7))\n",
        "\n",
        "  # Plot training data in blue\n",
        "  plt.scatter(train_data, train_labels, c=\"b\", s=4, label=\"Training data\")\n",
        "  \n",
        "  # Plot test data in green\n",
        "  plt.scatter(test_data, test_labels, c=\"c\", s=4, label=\"Testing data\")\n",
        "\n",
        "  if predictions is not None:\n",
        "    # Plot the predictions in red (predictions were made on the test data)\n",
        "    plt.scatter(test_data, predictions, c=\"r\", s=4, label=\"Predictions\")\n",
        "\n",
        "  # Show the legend\n",
        "  plt.legend(prop={\"size\": 14});"
      ],
      "metadata": {
        "id": "2rjo12Im5HVL"
      },
      "execution_count": null,
      "outputs": []
    },
    {
      "cell_type": "code",
      "source": [
        "plot_predictions()"
      ],
      "metadata": {
        "colab": {
          "base_uri": "https://localhost:8080/",
          "height": 428
        },
        "id": "asFK8u125VPi",
        "outputId": "699d7b2d-47eb-43f1-f463-e747a0879225"
      },
      "execution_count": null,
      "outputs": [
        {
          "output_type": "display_data",
          "data": {
            "text/plain": [
              "<Figure size 720x504 with 1 Axes>"
            ],
            "image/png": "[encoded data removed]"
          },
          "metadata": {
            "needs_background": "light"
          }
        }
      ]
    },
    {
      "cell_type": "code",
      "source": [
        "class LinearRegressionModel(nn.Module):\n",
        "  def __init__(self):\n",
        "    super().__init__()\n",
        "    self.weights = nn.Parameter(torch.randn(1, dtype = torch.float), requires_grad=True)\n",
        "    self.bias = nn.Parameter(torch.randn(1, dtype = torch.float), requires_grad=True)\n",
        "\n",
        "  def forward(self, x: torch.tensor) -> torch.tensor:\n",
        "      return self.weights * x + self.bias"
      ],
      "metadata": {
        "id": "CnCSk8lV5WcD"
      },
      "execution_count": null,
      "outputs": []
    },
    {
      "cell_type": "code",
      "source": [
        "torch.manual_seed(42)\n",
        "\n",
        "model_0 = LinearRegressionModel()\n",
        "\n",
        "list(model_0.parameters())"
      ],
      "metadata": {
        "colab": {
          "base_uri": "https://localhost:8080/"
        },
        "id": "VCzuOkJZ6sFC",
        "outputId": "0e0474b1-92b6-409e-e52a-d18691f0e128"
      },
      "execution_count": null,
      "outputs": [
        {
          "output_type": "execute_result",
          "data": {
            "text/plain": [
              "[Parameter containing:\n",
              " tensor([0.3367], requires_grad=True), Parameter containing:\n",
              " tensor([0.1288], requires_grad=True)]"
            ]
          },
          "metadata": {},
          "execution_count": 57
        }
      ]
    },
    {
      "cell_type": "code",
      "source": [
        "model_0.state_dict()"
      ],
      "metadata": {
        "colab": {
          "base_uri": "https://localhost:8080/"
        },
        "id": "RlOgFYLI62w5",
        "outputId": "5b1e5342-534f-426b-b5f7-76a7d68a703a"
      },
      "execution_count": null,
      "outputs": [
        {
          "output_type": "execute_result",
          "data": {
            "text/plain": [
              "OrderedDict([('weights', tensor([0.3367])), ('bias', tensor([0.1288]))])"
            ]
          },
          "metadata": {},
          "execution_count": 58
        }
      ]
    },
    {
      "cell_type": "code",
      "source": [
        "with torch.inference_mode(): ## Inference mode turns off the components necessary for training ie gradient tracking\n",
        "  y_preds = model_0(X_test)"
      ],
      "metadata": {
        "id": "vv715bj-67-r"
      },
      "execution_count": null,
      "outputs": []
    },
    {
      "cell_type": "code",
      "source": [
        "y_preds"
      ],
      "metadata": {
        "colab": {
          "base_uri": "https://localhost:8080/"
        },
        "id": "Fmxhm6yu7NB8",
        "outputId": "9a47975d-214c-49a2-f8d2-a1b019d5aed9"
      },
      "execution_count": null,
      "outputs": [
        {
          "output_type": "execute_result",
          "data": {
            "text/plain": [
              "tensor([0.3982, 0.4049, 0.4116, 0.4184, 0.4251, 0.4318, 0.4386, 0.4453, 0.4520,\n",
              "        0.4588])"
            ]
          },
          "metadata": {},
          "execution_count": 60
        }
      ]
    },
    {
      "cell_type": "code",
      "source": [
        "plot_predictions(predictions=y_preds)"
      ],
      "metadata": {
        "colab": {
          "base_uri": "https://localhost:8080/",
          "height": 428
        },
        "id": "YSnmePYc7viC",
        "outputId": "0ce849da-c47a-41ac-fd04-7b7638d8b69e"
      },
      "execution_count": null,
      "outputs": [
        {
          "output_type": "display_data",
          "data": {
            "text/plain": [
              "<Figure size 720x504 with 1 Axes>"
            ],
            "image/png": "[encoded data removed]"
          },
          "metadata": {
            "needs_background": "light"
          }
        }
      ]
    },
    {
      "cell_type": "code",
      "source": [
        "loss_function = nn.L1Loss()\n",
        "optimizer = torch.optim.SGD(params = model_0.parameters(), lr = 1e-3)"
      ],
      "metadata": {
        "id": "i6mTHvGz71PS"
      },
      "execution_count": null,
      "outputs": []
    },
    {
      "cell_type": "code",
      "source": [
        "torch.manual_seed(42)\n",
        "\n",
        "epochs = 1000\n",
        "\n",
        "train_loss_values = []\n",
        "test_loss_values = []\n",
        "epoch_counts = []\n",
        "\n",
        "\n",
        "for epoch in range(epochs):\n",
        "  \n",
        "  model_0.train()\n",
        "  y_pred = model_0(X_train)\n",
        "  loss = loss_function(y_pred, y_train)\n",
        "  optimizer.zero_grad()\n",
        "  loss.backward()\n",
        "  optimizer.step()\n",
        "  \n",
        "  model_0.eval()\n",
        "\n",
        "  with torch.inference_mode():\n",
        "    test_pred = model_0(X_test)\n",
        "    test_loss = loss_function(test_pred, y_test)\n",
        "  \n",
        "  if epoch % 5 == 0:\n",
        "    epoch_counts.append(epoch)\n",
        "    train_loss_values.append(loss.detach().numpy())\n",
        "    test_loss_values.append(test_loss.detach().numpy())\n",
        "    print(f\"Epoch: {epoch},Train MAE: {loss}, Test MAE: {test_loss}\")"
      ],
      "metadata": {
        "colab": {
          "base_uri": "https://localhost:8080/"
        },
        "id": "j5wzbPS08sRF",
        "outputId": "afac9377-766a-4d09-dec4-2370d99794ae"
      },
      "execution_count": null,
      "outputs": [
        {
          "output_type": "stream",
          "name": "stdout",
          "text": [
            "Epoch: 0,Train MAE: 0.02435956709086895, Test MAE: 0.05690721794962883\n",
            "Epoch: 5,Train MAE: 0.02418813668191433, Test MAE: 0.05649354308843613\n",
            "Epoch: 10,Train MAE: 0.024016480892896652, Test MAE: 0.05607985332608223\n",
            "Epoch: 15,Train MAE: 0.023844534531235695, Test MAE: 0.05566616728901863\n",
            "Epoch: 20,Train MAE: 0.02367258258163929, Test MAE: 0.055252473801374435\n",
            "Epoch: 25,Train MAE: 0.023500746116042137, Test MAE: 0.054907459765672684\n",
            "Epoch: 30,Train MAE: 0.023329313844442368, Test MAE: 0.054493773728609085\n",
            "Epoch: 35,Train MAE: 0.023157883435487747, Test MAE: 0.05408008024096489\n",
            "Epoch: 40,Train MAE: 0.022986043244600296, Test MAE: 0.05366641283035278\n",
            "Epoch: 45,Train MAE: 0.02281409129500389, Test MAE: 0.053252726793289185\n",
            "Epoch: 50,Train MAE: 0.022642139345407486, Test MAE: 0.05283904820680618\n",
            "Epoch: 55,Train MAE: 0.02247048355638981, Test MAE: 0.05249400809407234\n",
            "Epoch: 60,Train MAE: 0.02229905314743519, Test MAE: 0.05208033323287964\n",
            "Epoch: 65,Train MAE: 0.022127559408545494, Test MAE: 0.05166664719581604\n",
            "Epoch: 70,Train MAE: 0.02195560745894909, Test MAE: 0.05125296115875244\n",
            "Epoch: 75,Train MAE: 0.021783655509352684, Test MAE: 0.05083928257226944\n",
            "Epoch: 80,Train MAE: 0.021611705422401428, Test MAE: 0.05042559653520584\n",
            "Epoch: 85,Train MAE: 0.021440228447318077, Test MAE: 0.05008057504892349\n",
            "Epoch: 90,Train MAE: 0.021268798038363457, Test MAE: 0.0496668815612793\n",
            "Epoch: 95,Train MAE: 0.02109711989760399, Test MAE: 0.049253206700086594\n",
            "Epoch: 100,Train MAE: 0.02092517353594303, Test MAE: 0.0488395169377327\n",
            "Epoch: 105,Train MAE: 0.020753219723701477, Test MAE: 0.04842584207653999\n",
            "Epoch: 110,Train MAE: 0.020581401884555817, Test MAE: 0.04808080196380615\n",
            "Epoch: 115,Train MAE: 0.020409967750310898, Test MAE: 0.04766712710261345\n",
            "Epoch: 120,Train MAE: 0.020238537341356277, Test MAE: 0.047253452241420746\n",
            "Epoch: 125,Train MAE: 0.02006668969988823, Test MAE: 0.04683975502848625\n",
            "Epoch: 130,Train MAE: 0.019894743338227272, Test MAE: 0.04642607644200325\n",
            "Epoch: 135,Train MAE: 0.019722791388630867, Test MAE: 0.046012382954359055\n",
            "Epoch: 140,Train MAE: 0.019551146775484085, Test MAE: 0.0456673689186573\n",
            "Epoch: 145,Train MAE: 0.019379712641239166, Test MAE: 0.045253682881593704\n",
            "Epoch: 150,Train MAE: 0.019208211451768875, Test MAE: 0.04483998939394951\n",
            "Epoch: 155,Train MAE: 0.019036252051591873, Test MAE: 0.0444263219833374\n",
            "Epoch: 160,Train MAE: 0.018864300101995468, Test MAE: 0.044012635946273804\n",
            "Epoch: 165,Train MAE: 0.018692348152399063, Test MAE: 0.0435989573597908\n",
            "Epoch: 170,Train MAE: 0.018520886078476906, Test MAE: 0.04325391724705696\n",
            "Epoch: 175,Train MAE: 0.018349451944231987, Test MAE: 0.04284024238586426\n",
            "Epoch: 180,Train MAE: 0.01817776821553707, Test MAE: 0.04242655634880066\n",
            "Epoch: 185,Train MAE: 0.018005816265940666, Test MAE: 0.04201287031173706\n",
            "Epoch: 190,Train MAE: 0.01783386431634426, Test MAE: 0.04159919545054436\n",
            "Epoch: 195,Train MAE: 0.017662061378359795, Test MAE: 0.04125417023897171\n",
            "Epoch: 200,Train MAE: 0.017490629106760025, Test MAE: 0.04084048420190811\n",
            "Epoch: 205,Train MAE: 0.017319198697805405, Test MAE: 0.040426790714263916\n",
            "Epoch: 210,Train MAE: 0.017147328704595566, Test MAE: 0.040013112127780914\n",
            "Epoch: 215,Train MAE: 0.01697538234293461, Test MAE: 0.039599429816007614\n",
            "Epoch: 220,Train MAE: 0.016803432255983353, Test MAE: 0.03918575122952461\n",
            "Epoch: 225,Train MAE: 0.016631800681352615, Test MAE: 0.03884071111679077\n",
            "Epoch: 230,Train MAE: 0.016460370272397995, Test MAE: 0.03842703625559807\n",
            "Epoch: 235,Train MAE: 0.01628885231912136, Test MAE: 0.038013357669115067\n",
            "Epoch: 240,Train MAE: 0.016116898506879807, Test MAE: 0.03759966418147087\n",
            "Epoch: 245,Train MAE: 0.01594495214521885, Test MAE: 0.03718598559498787\n",
            "Epoch: 250,Train MAE: 0.015772998332977295, Test MAE: 0.036772288382053375\n",
            "Epoch: 255,Train MAE: 0.015601545572280884, Test MAE: 0.03642727807164192\n",
            "Epoch: 260,Train MAE: 0.01543011236935854, Test MAE: 0.03601359575986862\n",
            "Epoch: 265,Train MAE: 0.015258421190083027, Test MAE: 0.03559989854693413\n",
            "Epoch: 270,Train MAE: 0.015086461789906025, Test MAE: 0.03518623113632202\n",
            "Epoch: 275,Train MAE: 0.01491450984030962, Test MAE: 0.03477254509925842\n",
            "Epoch: 280,Train MAE: 0.014742719009518623, Test MAE: 0.03442750498652458\n",
            "Epoch: 285,Train MAE: 0.014571284875273705, Test MAE: 0.03401382640004158\n",
            "Epoch: 290,Train MAE: 0.014399850741028786, Test MAE: 0.03360014408826828\n",
            "Epoch: 295,Train MAE: 0.014227977022528648, Test MAE: 0.03318646550178528\n",
            "Epoch: 300,Train MAE: 0.014056024141609669, Test MAE: 0.03277278691530228\n",
            "Epoch: 305,Train MAE: 0.013884072192013264, Test MAE: 0.032359104603528976\n",
            "Epoch: 310,Train MAE: 0.013712462969124317, Test MAE: 0.03201407939195633\n",
            "Epoch: 315,Train MAE: 0.013541030697524548, Test MAE: 0.03160039335489273\n",
            "Epoch: 320,Train MAE: 0.013369491323828697, Test MAE: 0.031186699867248535\n",
            "Epoch: 325,Train MAE: 0.013197538442909718, Test MAE: 0.030773013830184937\n",
            "Epoch: 330,Train MAE: 0.01302559394389391, Test MAE: 0.030359338968992233\n",
            "Epoch: 335,Train MAE: 0.01285363920032978, Test MAE: 0.02994566038250923\n",
            "Epoch: 340,Train MAE: 0.012682202272117138, Test MAE: 0.029600614681839943\n",
            "Epoch: 345,Train MAE: 0.012510770931839943, Test MAE: 0.029186945408582687\n",
            "Epoch: 350,Train MAE: 0.012339059263467789, Test MAE: 0.028773266822099686\n",
            "Epoch: 355,Train MAE: 0.012167108245193958, Test MAE: 0.02835957333445549\n",
            "Epoch: 360,Train MAE: 0.011995160952210426, Test MAE: 0.02794589474797249\n",
            "Epoch: 365,Train MAE: 0.01182338036596775, Test MAE: 0.027600860223174095\n",
            "Epoch: 370,Train MAE: 0.011651946231722832, Test MAE: 0.02718718722462654\n",
            "Epoch: 375,Train MAE: 0.011480512097477913, Test MAE: 0.026773501187562943\n",
            "Epoch: 380,Train MAE: 0.011308628134429455, Test MAE: 0.026359815150499344\n",
            "Epoch: 385,Train MAE: 0.011136669665575027, Test MAE: 0.02594614028930664\n",
            "Epoch: 390,Train MAE: 0.010964717715978622, Test MAE: 0.025532448664307594\n",
            "Epoch: 395,Train MAE: 0.010793117806315422, Test MAE: 0.0251874141395092\n",
            "Epoch: 400,Train MAE: 0.010621682740747929, Test MAE: 0.0247737355530262\n",
            "Epoch: 405,Train MAE: 0.010450141504406929, Test MAE: 0.02436005510389805\n",
            "Epoch: 410,Train MAE: 0.010278185829520226, Test MAE: 0.023946374654769897\n",
            "Epoch: 415,Train MAE: 0.010106234811246395, Test MAE: 0.023532694205641747\n",
            "Epoch: 420,Train MAE: 0.009934291243553162, Test MAE: 0.023187648504972458\n",
            "Epoch: 425,Train MAE: 0.009762861765921116, Test MAE: 0.0227739866822958\n",
            "Epoch: 430,Train MAE: 0.009591431356966496, Test MAE: 0.0223603006452322\n",
            "Epoch: 435,Train MAE: 0.009419701062142849, Test MAE: 0.021946609020233154\n",
            "Epoch: 440,Train MAE: 0.00924774818122387, Test MAE: 0.021532922983169556\n",
            "Epoch: 445,Train MAE: 0.009075800888240337, Test MAE: 0.021119248121976852\n",
            "Epoch: 450,Train MAE: 0.008904037065804005, Test MAE: 0.020774226635694504\n",
            "Epoch: 455,Train MAE: 0.008732601068913937, Test MAE: 0.020360523834824562\n",
            "Epoch: 460,Train MAE: 0.008561169728636742, Test MAE: 0.019946854561567307\n",
            "Epoch: 465,Train MAE: 0.00838927086442709, Test MAE: 0.019533175975084305\n",
            "Epoch: 470,Train MAE: 0.008217317052185535, Test MAE: 0.01911948248744011\n",
            "Epoch: 475,Train MAE: 0.008045373484492302, Test MAE: 0.018705803900957108\n",
            "Epoch: 480,Train MAE: 0.007873778231441975, Test MAE: 0.018360769376158714\n",
            "Epoch: 485,Train MAE: 0.00770234689116478, Test MAE: 0.01794709637761116\n",
            "Epoch: 490,Train MAE: 0.0075307851657271385, Test MAE: 0.01753341034054756\n",
            "Epoch: 495,Train MAE: 0.00735883554443717, Test MAE: 0.017119724303483963\n",
            "Epoch: 500,Train MAE: 0.007186878472566605, Test MAE: 0.01670604944229126\n",
            "Epoch: 505,Train MAE: 0.00701494887471199, Test MAE: 0.01636102795600891\n",
            "Epoch: 510,Train MAE: 0.006843519397079945, Test MAE: 0.01594732329249382\n",
            "Epoch: 515,Train MAE: 0.006672080606222153, Test MAE: 0.015533643774688244\n",
            "Epoch: 520,Train MAE: 0.006500349845737219, Test MAE: 0.015119964256882668\n",
            "Epoch: 525,Train MAE: 0.00632839510217309, Test MAE: 0.014706283807754517\n",
            "Epoch: 530,Train MAE: 0.006156443618237972, Test MAE: 0.014292603358626366\n",
            "Epoch: 535,Train MAE: 0.005984690971672535, Test MAE: 0.013947558589279652\n",
            "Epoch: 540,Train MAE: 0.005813261028379202, Test MAE: 0.013533895835280418\n",
            "Epoch: 545,Train MAE: 0.0056418320164084435, Test MAE: 0.01312020979821682\n",
            "Epoch: 550,Train MAE: 0.005469909869134426, Test MAE: 0.012706518173217773\n",
            "Epoch: 555,Train MAE: 0.005297956522554159, Test MAE: 0.012292832136154175\n",
            "Epoch: 560,Train MAE: 0.0051260096952319145, Test MAE: 0.011879158206284046\n",
            "Epoch: 565,Train MAE: 0.004954436328262091, Test MAE: 0.011534136720001698\n",
            "Epoch: 570,Train MAE: 0.004782737232744694, Test MAE: 0.011086148209869862\n",
            "Epoch: 575,Train MAE: 0.004610785748809576, Test MAE: 0.01067246776074171\n",
            "Epoch: 580,Train MAE: 0.004439301788806915, Test MAE: 0.010327416472136974\n",
            "Epoch: 585,Train MAE: 0.0042678723111748695, Test MAE: 0.009913742542266846\n",
            "Epoch: 590,Train MAE: 0.004096207674592733, Test MAE: 0.0095000509172678\n",
            "Epoch: 595,Train MAE: 0.003924256656318903, Test MAE: 0.009086376056075096\n",
            "Epoch: 600,Train MAE: 0.003752306802198291, Test MAE: 0.008672690019011497\n",
            "Epoch: 605,Train MAE: 0.0035804794169962406, Test MAE: 0.008327657356858253\n",
            "Epoch: 610,Train MAE: 0.0034090480767190456, Test MAE: 0.007913952693343163\n",
            "Epoch: 615,Train MAE: 0.0032376102171838284, Test MAE: 0.007500273175537586\n",
            "Epoch: 620,Train MAE: 0.0030657730530947447, Test MAE: 0.007086604833602905\n",
            "Epoch: 625,Train MAE: 0.0028938204050064087, Test MAE: 0.006672924850136042\n",
            "Epoch: 630,Train MAE: 0.0027218691539019346, Test MAE: 0.006259244866669178\n",
            "Epoch: 635,Train MAE: 0.0025502212811261415, Test MAE: 0.005914211273193359\n",
            "Epoch: 640,Train MAE: 0.0023787864483892918, Test MAE: 0.005500525236129761\n",
            "Epoch: 645,Train MAE: 0.0022072880528867245, Test MAE: 0.005086851306259632\n",
            "Epoch: 650,Train MAE: 0.002035337733104825, Test MAE: 0.004673170857131481\n",
            "Epoch: 655,Train MAE: 0.0018633902072906494, Test MAE: 0.0042594848200678825\n",
            "Epoch: 660,Train MAE: 0.0016914367442950606, Test MAE: 0.0038457990158349276\n",
            "Epoch: 665,Train MAE: 0.001519959419965744, Test MAE: 0.0035007535479962826\n",
            "Epoch: 670,Train MAE: 0.0013485297095030546, Test MAE: 0.0030870854388922453\n",
            "Epoch: 675,Train MAE: 0.0011768483091145754, Test MAE: 0.0026734054554253817\n",
            "Epoch: 680,Train MAE: 0.0010049014817923307, Test MAE: 0.002259713364765048\n",
            "Epoch: 685,Train MAE: 0.0008333943551406264, Test MAE: 0.001880383468233049\n",
            "Epoch: 690,Train MAE: 0.0006616368773393333, Test MAE: 0.0014667033683508635\n",
            "Epoch: 695,Train MAE: 0.0004896812024526298, Test MAE: 0.0010530113941058517\n",
            "Epoch: 700,Train MAE: 0.0003177322505507618, Test MAE: 0.0006393313524313271\n",
            "Epoch: 705,Train MAE: 0.00015336423530243337, Test MAE: 0.0005101740243844688\n",
            "Epoch: 710,Train MAE: 0.0004444979131221771, Test MAE: 0.0005780101055279374\n",
            "Epoch: 715,Train MAE: 0.0007075972971506417, Test MAE: 0.0007690846687182784\n",
            "Epoch: 720,Train MAE: 0.0004444979131221771, Test MAE: 0.0005780101055279374\n",
            "Epoch: 725,Train MAE: 0.0007075972971506417, Test MAE: 0.0007690846687182784\n",
            "Epoch: 730,Train MAE: 0.0004444979131221771, Test MAE: 0.0005780101055279374\n",
            "Epoch: 735,Train MAE: 0.0007075972971506417, Test MAE: 0.0007690846687182784\n",
            "Epoch: 740,Train MAE: 0.0004444979131221771, Test MAE: 0.0005780101055279374\n",
            "Epoch: 745,Train MAE: 0.0007075972971506417, Test MAE: 0.0007690846687182784\n",
            "Epoch: 750,Train MAE: 0.0004444979131221771, Test MAE: 0.0005780101055279374\n",
            "Epoch: 755,Train MAE: 0.0007075972971506417, Test MAE: 0.0007690846687182784\n",
            "Epoch: 760,Train MAE: 0.0004444979131221771, Test MAE: 0.0005780101055279374\n",
            "Epoch: 765,Train MAE: 0.0007075972971506417, Test MAE: 0.0007690846687182784\n",
            "Epoch: 770,Train MAE: 0.0004444979131221771, Test MAE: 0.0005780101055279374\n",
            "Epoch: 775,Train MAE: 0.0007075972971506417, Test MAE: 0.0007690846687182784\n",
            "Epoch: 780,Train MAE: 0.0004444979131221771, Test MAE: 0.0005780101055279374\n",
            "Epoch: 785,Train MAE: 0.0007075972971506417, Test MAE: 0.0007690846687182784\n",
            "Epoch: 790,Train MAE: 0.0004444979131221771, Test MAE: 0.0005780101055279374\n",
            "Epoch: 795,Train MAE: 0.0007075972971506417, Test MAE: 0.0007690846687182784\n",
            "Epoch: 800,Train MAE: 0.0004444979131221771, Test MAE: 0.0005780101055279374\n",
            "Epoch: 805,Train MAE: 0.0007075972971506417, Test MAE: 0.0007690846687182784\n",
            "Epoch: 810,Train MAE: 0.0004444979131221771, Test MAE: 0.0005780101055279374\n",
            "Epoch: 815,Train MAE: 0.0007075972971506417, Test MAE: 0.0007690846687182784\n",
            "Epoch: 820,Train MAE: 0.0004444979131221771, Test MAE: 0.0005780101055279374\n",
            "Epoch: 825,Train MAE: 0.0007075972971506417, Test MAE: 0.0007690846687182784\n",
            "Epoch: 830,Train MAE: 0.0004444979131221771, Test MAE: 0.0005780101055279374\n",
            "Epoch: 835,Train MAE: 0.0007075972971506417, Test MAE: 0.0007690846687182784\n",
            "Epoch: 840,Train MAE: 0.0004444979131221771, Test MAE: 0.0005780101055279374\n",
            "Epoch: 845,Train MAE: 0.0007075972971506417, Test MAE: 0.0007690846687182784\n",
            "Epoch: 850,Train MAE: 0.0004444979131221771, Test MAE: 0.0005780101055279374\n",
            "Epoch: 855,Train MAE: 0.0007075972971506417, Test MAE: 0.0007690846687182784\n",
            "Epoch: 860,Train MAE: 0.0004444979131221771, Test MAE: 0.0005780101055279374\n",
            "Epoch: 865,Train MAE: 0.0007075972971506417, Test MAE: 0.0007690846687182784\n",
            "Epoch: 870,Train MAE: 0.0004444979131221771, Test MAE: 0.0005780101055279374\n",
            "Epoch: 875,Train MAE: 0.0007075972971506417, Test MAE: 0.0007690846687182784\n",
            "Epoch: 880,Train MAE: 0.0004444979131221771, Test MAE: 0.0005780101055279374\n",
            "Epoch: 885,Train MAE: 0.0007075972971506417, Test MAE: 0.0007690846687182784\n",
            "Epoch: 890,Train MAE: 0.0004444979131221771, Test MAE: 0.0005780101055279374\n",
            "Epoch: 895,Train MAE: 0.0007075972971506417, Test MAE: 0.0007690846687182784\n",
            "Epoch: 900,Train MAE: 0.0004444979131221771, Test MAE: 0.0005780101055279374\n",
            "Epoch: 905,Train MAE: 0.0007075972971506417, Test MAE: 0.0007690846687182784\n",
            "Epoch: 910,Train MAE: 0.0004444979131221771, Test MAE: 0.0005780101055279374\n",
            "Epoch: 915,Train MAE: 0.0007075972971506417, Test MAE: 0.0007690846687182784\n",
            "Epoch: 920,Train MAE: 0.0004444979131221771, Test MAE: 0.0005780101055279374\n",
            "Epoch: 925,Train MAE: 0.0007075972971506417, Test MAE: 0.0007690846687182784\n",
            "Epoch: 930,Train MAE: 0.0004444979131221771, Test MAE: 0.0005780101055279374\n",
            "Epoch: 935,Train MAE: 0.0007075972971506417, Test MAE: 0.0007690846687182784\n",
            "Epoch: 940,Train MAE: 0.0004444979131221771, Test MAE: 0.0005780101055279374\n",
            "Epoch: 945,Train MAE: 0.0007075972971506417, Test MAE: 0.0007690846687182784\n",
            "Epoch: 950,Train MAE: 0.0004444979131221771, Test MAE: 0.0005780101055279374\n",
            "Epoch: 955,Train MAE: 0.0007075972971506417, Test MAE: 0.0007690846687182784\n",
            "Epoch: 960,Train MAE: 0.0004444979131221771, Test MAE: 0.0005780101055279374\n",
            "Epoch: 965,Train MAE: 0.0007075972971506417, Test MAE: 0.0007690846687182784\n",
            "Epoch: 970,Train MAE: 0.0004444979131221771, Test MAE: 0.0005780101055279374\n",
            "Epoch: 975,Train MAE: 0.0007075972971506417, Test MAE: 0.0007690846687182784\n",
            "Epoch: 980,Train MAE: 0.0004444979131221771, Test MAE: 0.0005780101055279374\n",
            "Epoch: 985,Train MAE: 0.0007075972971506417, Test MAE: 0.0007690846687182784\n",
            "Epoch: 990,Train MAE: 0.0004444979131221771, Test MAE: 0.0005780101055279374\n",
            "Epoch: 995,Train MAE: 0.0007075972971506417, Test MAE: 0.0007690846687182784\n"
          ]
        }
      ]
    },
    {
      "cell_type": "code",
      "source": [
        "plt.plot(epoch_counts, train_loss_values, label=\"Train loss\")\n",
        "plt.plot(epoch_counts, test_loss_values, label=\"Test loss\")\n",
        "plt.title(\"Training and test loss curves\")\n",
        "plt.ylabel(\"Loss\")\n",
        "plt.xlabel(\"Epochs\")\n",
        "plt.legend();"
      ],
      "metadata": {
        "colab": {
          "base_uri": "https://localhost:8080/",
          "height": 295
        },
        "id": "AZ7BKGhn-BNZ",
        "outputId": "fb91b5c0-cc2f-40a6-ff33-f5df0aaef8a8"
      },
      "execution_count": null,
      "outputs": [
        {
          "output_type": "display_data",
          "data": {
            "text/plain": [
              "<Figure size 432x288 with 1 Axes>"
            ],
            "image/png": "[encoded data removed]"
          },
          "metadata": {
            "needs_background": "light"
          }
        }
      ]
    },
    {
      "cell_type": "code",
      "source": [
        "print(\"The model learned the following values for weights and bias:\")\n",
        "print(model_0.state_dict())\n",
        "print(\"\\nAnd the original values for weights and bias are:\")\n",
        "print(f\"weights: {weight}, bias: {bias}\")"
      ],
      "metadata": {
        "colab": {
          "base_uri": "https://localhost:8080/"
        },
        "id": "ksCXvDY8-8AU",
        "outputId": "8ceb83bf-8380-4f65-9af9-0d4c045915b7"
      },
      "execution_count": null,
      "outputs": [
        {
          "output_type": "stream",
          "name": "stdout",
          "text": [
            "The model learned the following values for weights and bias:\n",
            "OrderedDict([('weights', tensor([0.6994])), ('bias', tensor([0.2998]))])\n",
            "\n",
            "And the original values for weights and bias are:\n",
            "weights: 0.7, bias: 0.3\n"
          ]
        }
      ]
    },
    {
      "cell_type": "code",
      "source": [
        "model_0.eval() # set the model to evaluation mode\n",
        "\n",
        "with torch.inference_mode():\n",
        "  y_preds = model_0(X_test)\n",
        "y_preds"
      ],
      "metadata": {
        "colab": {
          "base_uri": "https://localhost:8080/"
        },
        "id": "XiKlJNs5_DND",
        "outputId": "6b396f45-ba33-48b9-b755-c5a2b5bb4f98"
      },
      "execution_count": null,
      "outputs": [
        {
          "output_type": "execute_result",
          "data": {
            "text/plain": [
              "tensor([0.8593, 0.8733, 0.8873, 0.9013, 0.9152, 0.9292, 0.9432, 0.9572, 0.9712,\n",
              "        0.9852])"
            ]
          },
          "metadata": {},
          "execution_count": 69
        }
      ]
    },
    {
      "cell_type": "code",
      "source": [
        "plot_predictions(predictions=y_preds)"
      ],
      "metadata": {
        "colab": {
          "base_uri": "https://localhost:8080/",
          "height": 428
        },
        "id": "WFM8AFncE3aZ",
        "outputId": "339da44b-22f2-4263-d4d5-dc76c1edc8c0"
      },
      "execution_count": null,
      "outputs": [
        {
          "output_type": "display_data",
          "data": {
            "text/plain": [
              "<Figure size 720x504 with 1 Axes>"
            ],
            "image/png": "[encoded data removed]"
          },
          "metadata": {
            "needs_background": "light"
          }
        }
      ]
    },
    {
      "cell_type": "code",
      "source": [
        "from pathlib import Path\n",
        "\n",
        "# 1. Create models directory \n",
        "MODEL_PATH = Path(\"models\")\n",
        "MODEL_PATH.mkdir(parents=True, exist_ok=True)\n",
        "\n",
        "# 2. Create model save path \n",
        "MODEL_NAME = \"01_pytorch_workflow_model_0.pth\"\n",
        "MODEL_SAVE_PATH = MODEL_PATH / MODEL_NAME\n",
        "\n",
        "# 3. Save the model state dict \n",
        "print(f\"Saving model to: {MODEL_SAVE_PATH}\")\n",
        "torch.save(obj=model_0.state_dict(), # only saving the state_dict() only saves the models learned parameters\n",
        "           f=MODEL_SAVE_PATH)"
      ],
      "metadata": {
        "colab": {
          "base_uri": "https://localhost:8080/"
        },
        "id": "dfvfT11WE8Ll",
        "outputId": "b76fa969-880f-489f-edc1-f756325ed57d"
      },
      "execution_count": null,
      "outputs": [
        {
          "output_type": "stream",
          "name": "stdout",
          "text": [
            "Saving model to: models/01_pytorch_workflow_model_0.pth\n"
          ]
        }
      ]
    },
    {
      "cell_type": "code",
      "source": [
        "# Check the saved file path\n",
        "!ls -l models/01_pytorch_workflow_model_0.pth"
      ],
      "metadata": {
        "id": "CrHm8H0tFE0O",
        "outputId": "37342b4d-ffc5-42af-8313-d45941113597",
        "colab": {
          "base_uri": "https://localhost:8080/"
        }
      },
      "execution_count": null,
      "outputs": [
        {
          "output_type": "stream",
          "name": "stdout",
          "text": [
            "-rw-r--r-- 1 root root 1063 Dec  6 01:37 models/01_pytorch_workflow_model_0.pth\n"
          ]
        }
      ]
    },
    {
      "cell_type": "code",
      "source": [],
      "metadata": {
        "id": "bezMhT1YFGvv"
      },
      "execution_count": null,
      "outputs": []
    }
  ]
}